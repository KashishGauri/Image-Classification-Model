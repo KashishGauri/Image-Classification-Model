{
 "cells": [
  {
   "cell_type": "code",
   "execution_count": 33,
   "id": "4b6166d3-32f2-4b42-80a7-2810b7e140bb",
   "metadata": {},
   "outputs": [],
   "source": [
    "import os\n",
    "import shutil\n",
    "import tensorflow as tf\n",
    "import random"
   ]
  },
  {
   "cell_type": "code",
   "execution_count": 34,
   "id": "a626db84-0049-4345-b631-845ae4227157",
   "metadata": {},
   "outputs": [
    {
     "name": "stdout",
     "output_type": "stream",
     "text": [
      "Found 269 files belonging to 6 classes.\n",
      "['Bean', 'Bellpepper', 'apple', 'banana', 'beetroot', 'bell pepper']\n",
      "ok\n"
     ]
    }
   ],
   "source": [
    "os.chdir(r'C:\\Users\\gauri\\image_detection\\sample')\n",
    "if os.path.isdir(r'train') is False:\n",
    "    file = tf.keras.preprocessing.image_dataset_from_directory(\n",
    "        r'C:\\Users\\gauri\\image_detection\\sample', \n",
    "        image_size=(180, 180)\n",
    "    )\n",
    "    names = file.class_names\n",
    "    print(names)\n",
    "    os.mkdir('train')\n",
    "    os.mkdir('valid')\n",
    "    os.mkdir('test')\n",
    "    for i in names:\n",
    "        shutil.move(f'{i}', 'train')\n",
    "        os.mkdir(f'valid/{i}')\n",
    "        os.mkdir(f'test/{i}')\n",
    "        valid_samples=random.sample(os.listdir(f'train/{i}'), 2)\n",
    "        for j in valid_samples:\n",
    "            shutil.move(f'train/{i}/{j}', f'valid/{i}')\n",
    "        test_samples=random.sample(os.listdir(f'train/{i}'), 2)\n",
    "        for k in test_samples:\n",
    "            shutil.move(f'train/{i}/{k}', f'test/{i}')\n",
    "os.chdir('../../')\n",
    "print('ok')"
   ]
  },
  {
   "cell_type": "code",
   "execution_count": null,
   "id": "a992c595-2cef-438c-a552-c1e343734f05",
   "metadata": {},
   "outputs": [],
   "source": []
  }
 ],
 "metadata": {
  "kernelspec": {
   "display_name": "Python 3 (ipykernel)",
   "language": "python",
   "name": "python3"
  },
  "language_info": {
   "codemirror_mode": {
    "name": "ipython",
    "version": 3
   },
   "file_extension": ".py",
   "mimetype": "text/x-python",
   "name": "python",
   "nbconvert_exporter": "python",
   "pygments_lexer": "ipython3",
   "version": "3.12.7"
  }
 },
 "nbformat": 4,
 "nbformat_minor": 5
}
